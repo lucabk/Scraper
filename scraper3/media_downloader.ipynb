{
 "cells": [
  {
   "cell_type": "code",
   "execution_count": 35,
   "id": "7e0b7050-5205-4278-9c58-545c69e6f58a",
   "metadata": {},
   "outputs": [],
   "source": [
    "import pymysql\n",
    "from pymysql.err import MySQLError\n",
    "import requests\n",
    "import time\n",
    "import os\n",
    "import mimetypes\n",
    "import json\n",
    "from os import listdir\n",
    "from os.path import isfile, join\n",
    "\n",
    "def connect_to_db():\n",
    "    return pymysql.connect(\n",
    "            host='localhost',\n",
    "            user='mysql',\n",
    "            password='mysql',\n",
    "            database='mysql',\n",
    "            port=3306\n",
    "        )\n",
    "\n",
    "def fetch_new_images_post(cursor):\n",
    "    query = \"\"\"\n",
    "        SELECT post_id, link_images, link_videos\n",
    "        FROM posts_info\n",
    "    \"\"\"\n",
    "    cursor.execute(query)\n",
    "    return cursor.fetchall()\n",
    "\n",
    "def download_image(db_connection, cursor, url, post_id, download_path):\n",
    "    downloaded = [os.path.splitext(f)[0] for f in listdir('contents') if isfile(join('contents', f))]\n",
    "    if not post_id in downloaded:\n",
    "        response = requests.get(url, stream=True)\n",
    "        if response.status_code == 200:\n",
    "            content_type = response.headers['Content-Type']\n",
    "            extension = mimetypes.guess_extension(content_type) or '.jpg'\n",
    "            \n",
    "            filename = str(post_id) + extension\n",
    "            filepath = os.path.join(download_path, filename)\n",
    "    \n",
    "            with open(filepath, 'wb') as file:\n",
    "                for chunk in response.iter_content(chunk_size=8192):\n",
    "                    file.write(chunk)"
   ]
  },
  {
   "cell_type": "code",
   "execution_count": null,
   "id": "adb2c088-b30d-47d9-9d60-f874a0ec6488",
   "metadata": {},
   "outputs": [
    {
     "name": "stdout",
     "output_type": "stream",
     "text": [
      "TO DOWNLOAD: 190\n"
     ]
    }
   ],
   "source": [
    "while True:\n",
    "    db_connection = connect_to_db()\n",
    "    cursor = db_connection.cursor()\n",
    "    new_images = fetch_new_images_post(cursor)\n",
    "    print(f\"TO DOWNLOAD: {len(new_images)}\")\n",
    "    for post_id, link_images, link_videos in new_images:\n",
    "        images = json.loads(link_images)\n",
    "        videos = json.loads(link_videos)\n",
    "        if images is not None:\n",
    "            for image in images:\n",
    "                try:\n",
    "                    download_image(db_connection,cursor,image,post_id,'contents')\n",
    "                except Exception as e:\n",
    "                    continue\n",
    "        if videos is not None:\n",
    "            for video in videos:\n",
    "                try:\n",
    "                    download_image(db_connection,cursor,video,post_id,'contents')\n",
    "                except Exception as e:\n",
    "                    continue\n",
    "    cursor.close()\n",
    "    db_connection.close()"
   ]
  },
  {
   "cell_type": "code",
   "execution_count": null,
   "id": "d79cc970-2122-4889-af96-b8e047a2c0ca",
   "metadata": {},
   "outputs": [],
   "source": []
  }
 ],
 "metadata": {
  "kernelspec": {
   "display_name": "Python 3 (ipykernel)",
   "language": "python",
   "name": "python3"
  },
  "language_info": {
   "codemirror_mode": {
    "name": "ipython",
    "version": 3
   },
   "file_extension": ".py",
   "mimetype": "text/x-python",
   "name": "python",
   "nbconvert_exporter": "python",
   "pygments_lexer": "ipython3",
   "version": "3.12.1"
  }
 },
 "nbformat": 4,
 "nbformat_minor": 5
}
